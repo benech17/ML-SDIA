{
 "cells": [
  {
   "cell_type": "markdown",
   "metadata": {},
   "source": [
    "# TP1 : Linear regression"
   ]
  },
  {
   "cell_type": "markdown",
   "metadata": {},
   "source": [
    "Notes : Z score en valeur abs \n"
   ]
  },
  {
   "cell_type": "markdown",
   "metadata": {},
   "source": [
    "The purpose of this work is to implement least square linear regression to medical data. The problem is based on an example described in the book by Hastie & Tibshirani (2009) pp. 3-4 & 49-63. Data come from a study published by Stamey et al. (1989). This study aims at the **prediction of the level of prostate specific antigen, denoted by `lpsa` below**, from the\n",
    "results of clinical exams. These exams are carried out before a possible\n",
    "prostatectomy.\n",
    "\n",
    "The measurements are log cancer volume `lcavol`, log prostate \n",
    "weight `lweight`, age of the patient `age`, log of benign prostatic \n",
    "hyperplasia amount `lbph`, seminal vesicle invasion `svi`, log of capsular \n",
    "penetration `lcp`, Gleason score `gleason`, and percent of Gleason scores 4 or \n",
    "5 `pgg45`. The variables `svi` and `gleason` are categorical, others are\n",
    "quantitative. There are `p=8` entries.\n",
    "The work is decomposed in the following tasks:\n",
    "\n",
    "* read and format the data : extraction of the training and test sets,\n",
    "* apply least square regression method to predict `lpsa` from the entries,\n",
    "* study the estimated error on the test set (validation),\n",
    "* identify the most significant entries by using a rejection test,\n",
    "* apply regularized least square regression method (ridge regression),\n",
    "* search for an optimal regularization parameter thanks to\n",
    "cross-validation."
   ]
  },
  {
   "cell_type": "code",
   "execution_count": 2,
   "metadata": {},
   "outputs": [],
   "source": [
    "import csv\n",
    "# import os\n",
    "from pylab import *\n",
    "import numpy as np\n",
    "from numpy import linalg as la\n",
    "\n",
    "import pandas as pd\n",
    "import seaborn as sns"
   ]
  },
  {
   "cell_type": "markdown",
   "metadata": {},
   "source": [
    "## Read & Normalize data\n",
    "Data are stored in ASCII format: \n",
    "\n",
    "* the first column enumerates the data from 1 à 97 (97 male subjects). \n",
    "* columns 2 to 9 contain the entries themselves. \n",
    "* column 10 contains target values. \n",
    "* column 11 contains label 1 for the training set, \n",
    "and 2 for the test set."
   ]
  },
  {
   "cell_type": "code",
   "execution_count": 3,
   "metadata": {},
   "outputs": [],
   "source": [
    "#%% To read data from spaced separated float numbers\n",
    "# x, y = np.loadtxt(c, delimiter=',', usecols=(0, 2), unpack=True)\n",
    "\n",
    "data_init = np.loadtxt('prostate_data_sansheader.txt')\n",
    "\n",
    "data = data_init[:,1:]   # we get rid of the indices (1 to 97)\n",
    "\n",
    "#%% Extraction of training/test sets\n",
    "Itrain = np.nonzero(data[:,-1]==1)\n",
    "data_train=data[Itrain]   # original data\n",
    "\n",
    "Itest = np.nonzero(data[:,-1]==0)\n",
    "data_test = data[Itest]   # original data"
   ]
  },
  {
   "cell_type": "markdown",
   "metadata": {},
   "source": [
    "**Normalization of the data** *with respect to the mean and standard deviation of the training set*."
   ]
  },
  {
   "cell_type": "code",
   "execution_count": 4,
   "metadata": {},
   "outputs": [
    {
     "name": "stdout",
     "output_type": "stream",
     "text": [
      "[ 1.23328245  0.47303067  7.44601122  1.45269103  0.41684299  1.39024269\n",
      "  0.70355366 29.08227243]\n"
     ]
    }
   ],
   "source": [
    "M_train = data_train\n",
    "M_test = data_test \n",
    "moy = np.zeros((8,))\n",
    "sigma = np.zeros((8,))\n",
    "\n",
    "# With a FOR loop :\n",
    "for k in range(8): # 8 columns of entries\n",
    "    moy[k]=np.mean(data_train[:,k])\n",
    "    sigma[k] = np.std(data_train[:,k], ddof=0)\n",
    "    M_train[:,k] = (data_train[:,k]-moy[k])/sigma[k] # normalized: centered, variance 1\n",
    "    M_test[:,k] = (data_test[:,k]-moy[k])/sigma[k]   # same normalization for test set\n",
    "\n",
    "print(sigma)"
   ]
  },
  {
   "cell_type": "code",
   "execution_count": 5,
   "metadata": {},
   "outputs": [
    {
     "data": {
      "text/plain": [
       "' normalize = lambda vec: (vec-np.mean(vec))/np.std(vec)    # inline function \\nM_train = np.array( [ normalize(vec) for vec in data_train[:,0:8].T ] ).T  # iterate on vec direct / ARRAY not LIST\\nmoy = np.array( [ np.mean(vec) for vec in data_train[:,0:8].T ] )\\nsigma = np.array( [ np.std(vec, ddof=0) for vec in data_train[:,0:8].T ] )\\n\\nM_test = np.array([ (data_test[:,k]-moy[k])/sigma[k] for k in range(M_train.shape[1]) ] ).T'"
      ]
     },
     "execution_count": 5,
     "metadata": {},
     "output_type": "execute_result"
    }
   ],
   "source": [
    "# Alternative WITHOUT FOR\n",
    "\"\"\" normalize = lambda vec: (vec-np.mean(vec))/np.std(vec)    # inline function \n",
    "M_train = np.array( [ normalize(vec) for vec in data_train[:,0:8].T ] ).T  # iterate on vec direct / ARRAY not LIST\n",
    "moy = np.array( [ np.mean(vec) for vec in data_train[:,0:8].T ] )\n",
    "sigma = np.array( [ np.std(vec, ddof=0) for vec in data_train[:,0:8].T ] )\n",
    "\n",
    "M_test = np.array([ (data_test[:,k]-moy[k])/sigma[k] for k in range(M_train.shape[1]) ] ).T\"\"\""
   ]
  },
  {
   "cell_type": "code",
   "execution_count": 6,
   "metadata": {},
   "outputs": [
    {
     "data": {
      "text/plain": [
       "(67, 10)"
      ]
     },
     "execution_count": 6,
     "metadata": {},
     "output_type": "execute_result"
    }
   ],
   "source": [
    "M_train.shape"
   ]
  },
  {
   "cell_type": "markdown",
   "metadata": {},
   "source": [
    "# Part 1 : simple least square regression"
   ]
  },
  {
   "cell_type": "markdown",
   "metadata": {},
   "source": [
    "## Preliminary questions\n",
    " \n",
    " * Compute the autocovariance matrix from the training set.\n",
    " * Observe carefully & Comment. What kind of information can you get ? "
   ]
  },
  {
   "cell_type": "code",
   "execution_count": 6,
   "metadata": {},
   "outputs": [
    {
     "name": "stdout",
     "output_type": "stream",
     "text": [
      "[[ 1.          0.30023199  0.28632427  0.06316772  0.59294913  0.69204308\n",
      "   0.42641407  0.48316136  0.87888041]\n",
      " [ 0.30023199  1.          0.31672347  0.43704154  0.18105448  0.15682859\n",
      "   0.02355821  0.07416632  0.58165878]\n",
      " [ 0.28632427  0.31672347  1.          0.28734645  0.12890226  0.1729514\n",
      "   0.36591512  0.27580573  0.27288962]\n",
      " [ 0.06316772  0.43704154  0.28734645  1.         -0.1391468  -0.08853456\n",
      "   0.03299215 -0.03040382  0.31520031]\n",
      " [ 0.59294913  0.18105448  0.12890226 -0.1391468   1.          0.67124021\n",
      "   0.30687537  0.48135774  0.66757572]\n",
      " [ 0.69204308  0.15682859  0.1729514  -0.08853456  0.67124021  1.\n",
      "   0.47643684  0.66253335  0.58643947]\n",
      " [ 0.42641407  0.02355821  0.36591512  0.03299215  0.30687537  0.47643684\n",
      "   1.          0.7570565   0.41049032]\n",
      " [ 0.48316136  0.07416632  0.27580573 -0.03040382  0.48135774  0.66253335\n",
      "   0.7570565   1.          0.53710401]\n",
      " [ 0.87888041  0.58165878  0.27288962  0.31520031  0.66757572  0.58643947\n",
      "   0.41049032  0.53710401  1.43703649]]\n"
     ]
    },
    {
     "data": {
      "image/png": "[encoded data removed]",
      "text/plain": [
       "<Figure size 432x288 with 2 Axes>"
      ]
     },
     "metadata": {
      "needs_background": "light"
     },
     "output_type": "display_data"
    }
   ],
   "source": [
    "# Numériquement\n",
    "covar_train = np.cov(M_train[:, :-1], rowvar=False, bias=True)\n",
    "# bias = True, pour avoir des 1 sur la diagonale. Concrètement, on utilise un estimateur biaisé (/n) plutôt qu'un estimateur non biaisé (/(n-1)).\n",
    "# On ne prends pas en compte la dernière colonne de M_train car ce sont les labels. \n",
    "# rowvar = False, équivalent à utiliser la transposée, chaque colonne représente une variable et chaque ligne une observation. \n",
    "\n",
    "print(covar_train)\n",
    "\n",
    "# Graphiquement\n",
    "sns.heatmap(covar_train, annot=True, cmap='coolwarm', fmt=\".2f\")\n",
    "plt.title('Matrice de Covariance de $M$_$train$')\n",
    "plt.show()"
   ]
  },
  {
   "cell_type": "markdown",
   "metadata": {},
   "source": [
    "### Observations \n",
    "> * On obtient bien des 1 sur la diagonale pour les correlations des variables (variance = 1). \n",
    "> * Les huit premières colonnes (ou lignes) représentent la corrélation des variables entre elles.\n",
    "> > * Les variables semblent globalement peu corrélées entre elles, mais attention tout de même à certaines variables qui ont une correlation parfois > 0.7 (par exemple entre la variable 6 et 7).\n",
    "> * La dernière colonne (ou ligne) représente les corrélations des variables avec la cible. Aucune variable ne semble être décorrelé à la cible, ce qui montre que nos variables actuelles pourraient être un indicateur important pour la prédiction de la cible."
   ]
  },
  {
   "cell_type": "markdown",
   "metadata": {},
   "source": [
    "Quelques rappels à propos de la notion de covariance : https://fr.wikipedia.org/wiki/Covariance"
   ]
  },
  {
   "cell_type": "markdown",
   "metadata": {},
   "source": [
    "## Exercise 1 : least square regression \n",
    " * Build the matrix of features `X_train` for the training set, the first column is made of ones.\n",
    " * Estimate the regression vector `beta_hat` (estimates= `X*beta_hat`)\n",
    " _Indication: you may either use the function `inv` or another more efficient way to compute $A^{-1}B$ (think of `A\\B`)._ \n",
    " * What is the value of the first coefficient `beta_hat[0]` ? What does it correspond to ?\n",
    " * Estimate the prediction error (quadratic error) from the test set.\n",
    "\n",
    "\n",
    "*Indication: be careful of using `X_test` defined above, normalized w.r.t. the training data set. You can estimate this error by using:*"
   ]
  },
  {
   "cell_type": "code",
   "execution_count": 12,
   "metadata": {},
   "outputs": [],
   "source": [
    "t_test = data_test[:,8]   # target column\n",
    "N_test = data_test.shape[0]\n",
    "X_test = np.concatenate((np.ones((N_test,1)), M_test[:,0:8]), axis=1) \n",
    "# don't forget the 1st column of ones and normalization !"
   ]
  },
  {
   "cell_type": "code",
   "execution_count": 18,
   "metadata": {
    "scrolled": true
   },
   "outputs": [
    {
     "name": "stdout",
     "output_type": "stream",
     "text": [
      "beta_hat =  2.452345085074627\n",
      "quadratic error :  0.5212740055076002\n"
     ]
    }
   ],
   "source": [
    "# Exercise 1\n",
    "\n",
    "# X_train\n",
    "t_train = data_train[:,8]\n",
    "N_train = data_train.shape[0]\n",
    "X_train = np.concatenate((np.ones((N_train, 1)), M_train[:, 0:8]), axis=1)\n",
    "\n",
    "# beta hat\n",
    "beta_hat = la.pinv(X_train).dot(t_train)\n",
    "print(\"beta_hat = \",beta_hat[0])\n",
    "\n",
    "# error estimate \n",
    "y_pred_test = X_test @ beta_hat\n",
    "\n",
    "# Quadratic error\n",
    "quadratic_error = np.mean((t_test - y_pred_test) ** 2)\n",
    "print('quadratic error : ',quadratic_error)\n"
   ]
  },
  {
   "cell_type": "markdown",
   "metadata": {},
   "source": [
    "> beta_hat[0] est l'ordonnée à l'origine du modèle de regression linéaire. C'est la valeur moyenne de la cible dans l'ensemble d'entraînement\n",
    ">\n",
    "> En moyenne, nous faisons une erreur au sens des moindres carrés d'environ 0.521 pour une valeure prédite de **lpsa** de 2.452. "
   ]
  },
  {
   "cell_type": "markdown",
   "metadata": {},
   "source": [
    "## Rejection test, computation of Z-scores\n",
    "Now we turn to the selection of the most significant entries so that our predictor be more robust. The essential idea is that our estimates will be more robust if only the most significant entries are taken into account. As a consequence, note that we will *reduce the dimension* of the problem from |p=8| to some smaller dimension. The present approach uses a statistical test to decide whether the regression coefficient corresponding to some entry is significantly non-zero. Then we can decide either to put non significant coefficients to zero, or to select the significant entries only and estimate the new reduced regression vector.\n",
    "\n",
    "Let's assume that target values are noisy due to some white Gaussian\n",
    "noise with variance $\\sigma^2$ (see Hastie & Tibshirani p. 47). One can show that the estimated regression vector |beta_hat| is also Gaussian with variance\n",
    "\n",
    "$$ var (\\widehat{\\beta}) = (X^TX)^{-1}\\sigma^2.$$  \n",
    "\n",
    "One can also show that the estimator of the variance (from the training set)\n",
    "\n",
    "$$\\widehat{\\sigma^2}=\\frac{1}{(N-p-1)}\\sum (t_n-\\widehat{t}_n)^2$$\n",
    "\n",
    "obeys a Chi-2 distribution. As a consequence a Chi-square statistical test can be used to determine whether some coefficient $\\beta_j$ is\n",
    "significantly non-zero. To this aim, one defines the variables $z_j$\n",
    "named Z-scores which in turn obey a Fisher law, also called\n",
    "$t$-distribution, which are often used in statistics:\n",
    "\n",
    "$$ z_j = \\frac{\\beta_j}{\\widehat{\\sigma}\\sqrt{v_j}} $$\n",
    "\n",
    "where $v_j$ is the $j$-th diagonal element of the matrix $(X^TX)^{-1}$.\n",
    "For sake of simplicity, we will consider that the null hypothesis of\n",
    "$\\beta_j$ is rejected with probability 95% if the Z-score is greater than 2."
   ]
  },
  {
   "cell_type": "markdown",
   "metadata": {},
   "source": [
    "## Exercise 2\n",
    "1. Compute the Z-scores and select the most significant entries.\n",
    "2. Estimate the prediction error over the test set if only these significant \n",
    "entries are taken into account for regression by putting other regression \n",
    "coefficients to zero.\n",
    "3. Estimate the new regression vector when only the significant features\n",
    "are taken into account.\n",
    "4. Compare to previous results (Exercise 1).\n",
    "\n",
    "*Indication 1 : to sort a vector `Z` in descending order*\n",
    "`val = np.sort(np.abs(Z))[-1:0:-1]`\n",
    "\n",
    "\n",
    "*Indication 2 :* to extract the diagonal of a matrix,\n",
    "`vXX = np.diag(inv(X.T.dot(X),k=0)`"
   ]
  },
  {
   "cell_type": "code",
   "execution_count": 23,
   "metadata": {},
   "outputs": [
    {
     "data": {
      "text/plain": [
       "array([[ 0.        , 20.07330964],\n",
       "       [ 1.        ,  3.82233398],\n",
       "       [ 2.        ,  1.95934898],\n",
       "       [ 5.        ,  1.75881608],\n",
       "       [ 4.        ,  1.46435022],\n",
       "       [ 6.        , -1.32977588],\n",
       "       [ 8.        ,  1.23783904],\n",
       "       [ 3.        , -0.99428653],\n",
       "       [ 7.        , -0.10447898]])"
      ]
     },
     "execution_count": 23,
     "metadata": {},
     "output_type": "execute_result"
    }
   ],
   "source": [
    "# Exercise 2\n",
    "\n",
    "# Question 1\n",
    "cov_beta = la.inv(X_train.T @ X_train) # covariance de beta_hat\n",
    "std_errors = np.sqrt(np.diag(cov_beta))\n",
    "z_scores = beta_hat / std_errors\n",
    "\n",
    "# Sort Z-scores in descending order of their absolute values\n",
    "sorted_indices = np.argsort(np.abs(z_scores))[::-1]\n",
    "sorted_z_scores = z_scores[sorted_indices]\n",
    "z_scores_and_indices = np.column_stack((sorted_indices, sorted_z_scores))\n",
    "\n",
    "print(z_scores_and_indices)"
   ]
  },
  {
   "cell_type": "code",
   "execution_count": 27,
   "metadata": {},
   "outputs": [
    {
     "name": "stdout",
     "output_type": "stream",
     "text": [
      "erreur quadratique avec z-score:  0.5073259531021291\n",
      "Nouveau beta_hat :  [2.45234509 0.87888041]\n"
     ]
    }
   ],
   "source": [
    "# Question 2/3\n",
    "\n",
    "threshold = 2\n",
    "\n",
    "beta_hat_significant = beta_hat.copy() # copy of beta_hat for modification\n",
    "beta_hat_significant[np.abs(z_scores) < threshold] = 0\n",
    "\n",
    "y_pred_test_significant = X_test @ beta_hat_significant\n",
    "\n",
    "quadratic_error_significant = np.mean((t_test - y_pred_test_significant) ** 2)\n",
    "print(\"erreur quadratique avec z-score: \",quadratic_error_significant) \n",
    "\n",
    "X_train_significant = X_train[:, np.abs(z_scores) >= threshold]\n",
    "beta_hat_new = la.inv(X_train_significant.T @ X_train_significant) @ X_train_significant.T @ M_train[:, 8]\n",
    "\n",
    "print(\"Nouveau beta_hat : \",beta_hat_new)"
   ]
  },
  {
   "cell_type": "markdown",
   "metadata": {},
   "source": [
    "### Question 4 \n",
    "\n",
    "> En ne prenant en compte que des coefficients significatifs (basés sur un seuil de Z-score de 2), l'erreur de prédiction quadratique sur l'ensemble de test, est d'environ 0.5073, ce qui est légèrement mieux qu'à l'exercice 1 (0.521). \n",
    ">\n",
    "> Réduire la dimension du problème semble être efficace dans ce contexte. \n"
   ]
  },
  {
   "cell_type": "markdown",
   "metadata": {},
   "source": [
    "# Part 2: Regularized least squares\n",
    "This part deals with regularized least square regression. We denote\n",
    "by `beta_hat_reg` the resulting coefficients. This approach is an alternative to the selection based on statistical tests above. The idea is now to penalize large values of regression coefficients, *except for the bias*.\n",
    "\n",
    "We use the result:\n",
    "\n",
    "$$\\hat{\\beta} = (\\lambda I_p + X_c^T X_c)^{-1} X_c^T t_c$$\n",
    "\n",
    "where $X_c$ contains the normalized entries of the training data set with \n",
    "no column of ones (the bias should no be penalized and is processed). \n",
    "The targets `t_c` are therefore also centered, `t_c=t-mean(t)`.\n",
    " \n",
    "First, we estimate the bias $t_0$ to center the targets which yields the coefficient $\\beta_0$, that is `beta_hat_reg[0]` in Python.\n",
    "\n",
    "*Remark : the bias is estimated as the empirical average of targets.\n",
    "For tests, entries should be normalized with respect to the means and\n",
    "variances of the training data set (see exercise 3.5 p. 95 in Hastie & Tibshirani). Then work on the vector of entries with no column of ones.*"
   ]
  },
  {
   "cell_type": "markdown",
   "metadata": {},
   "source": [
    "## Exercise 3\n",
    "1. Use _ridge regression_ for penalty `lambda = 25` to estimate the regression vector. \n",
    "2. Estimate the prediction error from the test set.\n",
    "3. Compare the results (coefficients $\\beta$, error...) to previous ones.\n",
    "4. You may also compare these results to the result of best subset selection below:\n",
    "\n",
    "`beta_best = [2.477 0.74 0.316 0 0 0 0 0 0]`.\n",
    "\n",
    "*Indication : a simple way to obtain predictions for the test data set is the code below:*"
   ]
  },
  {
   "cell_type": "code",
   "execution_count": null,
   "metadata": {},
   "outputs": [],
   "source": [
    "t = data_train[:,8]   # column of targets\n",
    "t0 = np.mean(t)\n",
    "\n",
    "N_test = data_test.shape[0]\n",
    "X_test = np.hstack((np.ones((N_test,1)), M_test[:,0:8]))  \n",
    "# Here the 1st column of X_test is a column of ones.\n",
    "t_hat_reg = X_test.dot(beta_hat_reg)"
   ]
  },
  {
   "cell_type": "code",
   "execution_count": 40,
   "metadata": {},
   "outputs": [
    {
     "name": "stdout",
     "output_type": "stream",
     "text": [
      "[ 2.45234509  0.4221092   0.24879171 -0.04226499  0.16575364  0.23091485\n",
      "  0.01066329  0.04306017  0.13151316]\n",
      "0.49394215991187174\n",
      "\n",
      "Comparaison des errors : \n",
      "Least squares :  0.5212740055076002\n",
      "Z-scores :  0.5073259531021291\n",
      "Ridge :  0.49394215991187174\n",
      "Best :  0.4936867011109828\n"
     ]
    }
   ],
   "source": [
    "# Question 1 \n",
    "lambda_ridge = 25\n",
    "identity_matrix = np.eye(X_train.shape[1])\n",
    "identity_matrix[0, 0] = 0  # intercept\n",
    "\n",
    "beta_ridge = la.inv(X_train.T @ X_train + lambda_ridge * identity_matrix) @ X_train.T @ M_train[:,8]\n",
    "print(beta_ridge)\n",
    "\n",
    "# Question 2 \n",
    "t_hat_ridge = X_test @ beta_ridge\n",
    "quadratic_error_ridge = np.mean((t_test - t_hat_ridge) ** 2)\n",
    "print(quadratic_error_ridge)\n",
    "\n",
    "# Question 3 \n",
    "print(\"\\nComparaison des erreurs : \\nLeast squares : \", quadratic_error)\n",
    "print(\"Z-scores : \", quadratic_error_significant)\n",
    "print(\"Ridge : \", quadratic_error_ridge)\n",
    "\n",
    "beta_best = np.array([2.477, 0.74, 0.316, 0, 0, 0, 0, 0, 0])\n",
    "t_hat_best = X_test @ beta_best\n",
    "quadratic_error_best = np.mean((t_test - t_hat_best) ** 2)\n",
    "\n",
    "print(\"Best : \", quadratic_error_best)"
   ]
  },
  {
   "cell_type": "markdown",
   "metadata": {},
   "source": [
    "# Part 3: Cross-Validation \n",
    "\n",
    "## How to choose lambda from the training data set only ? \n",
    "\n",
    "The idea is to decompose the training set in 2 subsets: one subset for\n",
    "linear regression (say 9/10 of the data), the other to estimate the prediction error (say 1/10 of the data).\n",
    "\n",
    "We can repeat this operation 10 times over the 10 possible couples of\n",
    "subsets to estimate the average prediction error. We will choose the\n",
    "value of `lambda` which minimizes this error. The algorithm goes as\n",
    "follows:\n",
    "\n",
    "For the 10 cross-validation cases\n",
    "    \n",
    "    Extraction of test & training subsets `testset` & `trainset`\n",
    "    \n",
    "    For lambda in 0:40\n",
    "        Estimate `beta_hat` from normalized `trainset` (mean=0, var=1)\n",
    "        Estimate the error from  `testset`\n",
    "    EndFor lambda\n",
    "\n",
    "EndFor 10 cases\n",
    "\n",
    "Compute the average error for each lambda\n",
    "\n",
    "Choose `lambda` which minimizes the error \n"
   ]
  },
  {
   "cell_type": "markdown",
   "metadata": {},
   "source": [
    "## Exercise 4\n",
    "* Use 6-fold cross-validation in the present study to optimize the choice of `lambda`. \n",
    "Try values of `lambda` ranging from 0 to 40 for instance (0:40).\n",
    "* Plot the estimated error as a function of `lambda`.\n",
    "* Propose a well chosen value of `lambda` and give the estimated corresponding\n",
    "error on the test set.\n",
    "* Comment on your results.\n",
    "\n",
    "*Indication 1 : think of shuffling the dataset first.*\n",
    "\n",
    "*Indication 2 : you can build 6 training and test subsets by using the code below*"
   ]
  },
  {
   "cell_type": "code",
   "execution_count": 42,
   "metadata": {},
   "outputs": [],
   "source": [
    "lmax = 40\n",
    "lambda_pos = arange(0,lmax+1) \n",
    "\n",
    "N_test = 10\n",
    "m=np.zeros(8)\n",
    "s = np.zeros(8)\n",
    "#X_traink = np.zeros((X_train.shape[0]-N_test,8))\n",
    "#X_testk = np.zeros((N_test,8))\n",
    "erreur = np.zeros((6,lmax+1))\n",
    "erreur_rel = np.zeros((6,lmax+1))"
   ]
  },
  {
   "cell_type": "code",
   "execution_count": 45,
   "metadata": {},
   "outputs": [
    {
     "data": {
      "text/plain": [
       "array([0.66588238, 0.65971775, 0.65461231, 0.65032618, 0.646692  ,\n",
       "       0.64358858, 0.64092551, 0.63863359, 0.6366588 , 0.63495809,\n",
       "       0.63349669, 0.63224607, 0.63118256, 0.63028626, 0.62954033,\n",
       "       0.62893033, 0.62844383, 0.62807   , 0.62779938, 0.62762363,\n",
       "       0.62753537, 0.62752802, 0.62759571, 0.62773314, 0.62793553,\n",
       "       0.62819857, 0.62851832, 0.62889118, 0.62931387, 0.62978338,\n",
       "       0.63029693, 0.63085195, 0.63144608, 0.63207711, 0.63274301,\n",
       "       0.63344187, 0.63417191, 0.63493148, 0.63571903, 0.63653311,\n",
       "       0.63737234])"
      ]
     },
     "execution_count": 45,
     "metadata": {},
     "output_type": "execute_result"
    }
   ],
   "source": [
    "# Exercise 4 \n",
    "lambda_results = []\n",
    "\n",
    "for iter in range(6):   # loop on test subsets\n",
    "    data_train_shuffled = np.copy(data_train)\n",
    "    np.random.shuffle(data_train_shuffled)\n",
    "    \n",
    "    # extraction of testset and trainset\n",
    "    testset  = data_train_shuffled[np.arange(iter*N_test,(iter+1)*N_test),0:9]\n",
    "    trainset = data_train_shuffled[np.hstack((np.arange(iter*N_test),np.arange((iter+1)*N_test,data_train_shuffled.shape[0]))),0:9]\n",
    "    \n",
    "    # normalization of entries\n",
    "    trainset_normalized = trainset\n",
    "    testset_normalized = testset \n",
    "    moyk = np.zeros((8,))\n",
    "    sigmak = np.zeros((8,))\n",
    "\n",
    "    for k in range(8): \n",
    "        moyk[k] = np.mean(trainset[:,k])\n",
    "        sigmak[k] = np.std(trainset[:,k], ddof=0)\n",
    "        trainset_normalized[:,k] = (trainset[:,k] - moyk[k]) / sigmak[k] \n",
    "        testset_normalized[:,k] = (testset[:,k] - moyk[k]) / sigmak[k]   \n",
    "    # end of normalization\n",
    "    \n",
    "    t_traink = trainset_normalized[:,-1]\n",
    "    t_testk = testset_normalized[:,-1]\n",
    "    lambda_results_k = []\n",
    "    \n",
    "    for l in lambda_pos:\n",
    "        # estimate beta using ridge regression\n",
    "        I = np.eye(p+1)\n",
    "        I[0, 0] = 0  # Don't penalize the intercept\n",
    "        X_traink_c = np.hstack((np.ones((trainset_normalized.shape[0],1)), trainset_normalized[:,0:8]))\n",
    "        X_testk_c = np.hstack((np.ones((testset_normalized.shape[0],1)), testset_normalized[:,0:8]))\n",
    "        \n",
    "        beta_cross_reg = la.inv(l * I + X_traink_c.T @ X_traink_c) @ X_traink_c.T @ t_traink\n",
    "        \n",
    "        # compute error\n",
    "        error_cross_reg = np.mean((t_testk - X_testk_c @ beta_cross_reg) ** 2)\n",
    "        lambda_results_k.append(error_cross_reg)\n",
    "         \n",
    "    lambda_results.append(lambda_results_k)\n",
    "    \n",
    "lambda_results = np.array(lambda_results)\n",
    "lambda_results_averaged = np.mean(lambda_results, axis=0)\n",
    "\n",
    " \n",
    "lambda_results_averaged"
   ]
  },
  {
   "cell_type": "code",
   "execution_count": 47,
   "metadata": {},
   "outputs": [
    {
     "name": "stdout",
     "output_type": "stream",
     "text": [
      "21 0.49097635433092485\n"
     ]
    }
   ],
   "source": [
    "# Exercise 4 ---------------\n",
    "\n",
    "best_lambda = lambda_pos[np.argmin(lambda_results_averaged)]\n",
    "I_opt = np.eye(p+1)\n",
    "I_opt[0, 0] = 0 \n",
    "X_train_full = np.hstack((np.ones((data_train.shape[0],1)), M_train[:,0:8]))\n",
    "\n",
    "beta_ridge_6fold = la.inv(best_lambda * I_opt + X_train_full.T @ X_train_full) @ X_train_full.T @ M_train[:, 8]\n",
    "\n",
    "# error\n",
    "y_pred_test_6fold = X_test @ beta_ridge_6fold\n",
    "test_error_6fold = np.mean((t_test - y_pred_test_6fold) ** 2)\n",
    "\n",
    "print(best_lambda, test_error_6fold)"
   ]
  },
  {
   "cell_type": "code",
   "execution_count": 46,
   "metadata": {},
   "outputs": [
    {
     "data": {
      "image/png": "[encoded data removed]",
      "text/plain": [
       "<Figure size 720x432 with 1 Axes>"
      ]
     },
     "metadata": {
      "needs_background": "light"
     },
     "output_type": "display_data"
    }
   ],
   "source": [
    "# Exercise 4 FIGURE ---------------\n",
    "import matplotlib.pyplot as plt\n",
    "\n",
    "plt.figure(figsize=(10, 6))\n",
    "plt.plot(lambda_pos, lambda_results_averaged, marker='o', linestyle='-')\n",
    "plt.xlabel('λ ')\n",
    "plt.ylabel('6-Fold Cross-Validation Error')\n",
    "plt.title('Error as a function of λ')\n",
    "plt.grid(True)\n",
    "plt.show();\n"
   ]
  },
  {
   "cell_type": "markdown",
   "metadata": {},
   "source": [
    "# Question 4 \n",
    "On trouve que le $\\lambda$ donnant les meilleurs résultats en moyenne est $\\lambda$ = 21 grâce à la validation croisée.\n",
    "Cependant relancer l'apprentissage peut donner des variations de valeurs.\n",
    "\n",
    "La performance avec cette valeur de $\\lambda$ est comparable à celle du meilleur sous-ensemble, mais avec l'avantage d'utiliser toutes les caractéristiques tout en contrôlant leur importance grâce à la régularisation. \n",
    "\n",
    "La régularisation est bénéfique pour ce jeu de données. Cela peut être dû à la corrélation entre certaines caractéristiques, et la régularisation aide à atténuer les effets de cette multicollinéarité."
   ]
  }
 ],
 "metadata": {
  "kernelspec": {
   "display_name": "Python 3",
   "language": "python",
   "name": "python3"
  },
  "language_info": {
   "codemirror_mode": {
    "name": "ipython",
    "version": 3
   },
   "file_extension": ".py",
   "mimetype": "text/x-python",
   "name": "python",
   "nbconvert_exporter": "python",
   "pygments_lexer": "ipython3",
   "version": "3.9.12"
  }
 },
 "nbformat": 4,
 "nbformat_minor": 2
}
